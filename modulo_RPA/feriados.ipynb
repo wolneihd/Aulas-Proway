{
 "cells": [
  {
   "cell_type": "code",
   "execution_count": 28,
   "metadata": {},
   "outputs": [],
   "source": [
    "import pandas as pd"
   ]
  },
  {
   "cell_type": "code",
   "execution_count": 29,
   "metadata": {},
   "outputs": [],
   "source": [
    "feriados = pd.read_csv('feriados.csv', sep=',')\n"
   ]
  },
  {
   "cell_type": "code",
   "execution_count": 30,
   "metadata": {},
   "outputs": [
    {
     "data": {
      "text/html": [
       "<div>\n",
       "<style scoped>\n",
       "    .dataframe tbody tr th:only-of-type {\n",
       "        vertical-align: middle;\n",
       "    }\n",
       "\n",
       "    .dataframe tbody tr th {\n",
       "        vertical-align: top;\n",
       "    }\n",
       "\n",
       "    .dataframe thead th {\n",
       "        text-align: right;\n",
       "    }\n",
       "</style>\n",
       "<table border=\"1\" class=\"dataframe\">\n",
       "  <thead>\n",
       "    <tr style=\"text-align: right;\">\n",
       "      <th></th>\n",
       "      <th>data</th>\n",
       "      <th>nome</th>\n",
       "      <th>observacao</th>\n",
       "    </tr>\n",
       "  </thead>\n",
       "  <tbody>\n",
       "    <tr>\n",
       "      <th>0</th>\n",
       "      <td>1/janeiro</td>\n",
       "      <td>Confraternização Mundial</td>\n",
       "      <td>Início do calendário anual</td>\n",
       "    </tr>\n",
       "    <tr>\n",
       "      <th>1</th>\n",
       "      <td>21/abril</td>\n",
       "      <td>Tiradentes</td>\n",
       "      <td>Em homenagem ao mártir da Inconfidência Mineir...</td>\n",
       "    </tr>\n",
       "    <tr>\n",
       "      <th>2</th>\n",
       "      <td>1/maio</td>\n",
       "      <td>Dia do Trabalhador</td>\n",
       "      <td>Homenagem a todos os trabalhadores</td>\n",
       "    </tr>\n",
       "    <tr>\n",
       "      <th>3</th>\n",
       "      <td>7/setembro</td>\n",
       "      <td>Independência</td>\n",
       "      <td>Proclamação da Independência do domínio de Por...</td>\n",
       "    </tr>\n",
       "    <tr>\n",
       "      <th>4</th>\n",
       "      <td>12/outubro</td>\n",
       "      <td>Nossa Senhora da Conceição Aparecida/Dia das C...</td>\n",
       "      <td>Padroeira do país/Homenagem às crianças</td>\n",
       "    </tr>\n",
       "    <tr>\n",
       "      <th>5</th>\n",
       "      <td>2/novembro</td>\n",
       "      <td>Finados</td>\n",
       "      <td>Dia de memória aos mortos</td>\n",
       "    </tr>\n",
       "    <tr>\n",
       "      <th>6</th>\n",
       "      <td>15/novembro</td>\n",
       "      <td>Proclamação da República</td>\n",
       "      <td>Transformação do Império em uma República</td>\n",
       "    </tr>\n",
       "    <tr>\n",
       "      <th>7</th>\n",
       "      <td>20/novembro</td>\n",
       "      <td>Dia Nacional de Zumbi e da Consciência Negra</td>\n",
       "      <td>Morte do líder quilombola Zumbi dos Palmares</td>\n",
       "    </tr>\n",
       "    <tr>\n",
       "      <th>8</th>\n",
       "      <td>25/dezembro</td>\n",
       "      <td>Natal</td>\n",
       "      <td>Celebração tradicional de natal</td>\n",
       "    </tr>\n",
       "  </tbody>\n",
       "</table>\n",
       "</div>"
      ],
      "text/plain": [
       "          data                                               nome  \\\n",
       "0    1/janeiro                           Confraternização Mundial   \n",
       "1     21/abril                                         Tiradentes   \n",
       "2       1/maio                                 Dia do Trabalhador   \n",
       "3   7/setembro                                      Independência   \n",
       "4   12/outubro  Nossa Senhora da Conceição Aparecida/Dia das C...   \n",
       "5   2/novembro                                            Finados   \n",
       "6  15/novembro                           Proclamação da República   \n",
       "7  20/novembro       Dia Nacional de Zumbi e da Consciência Negra   \n",
       "8  25/dezembro                                              Natal   \n",
       "\n",
       "                                          observacao  \n",
       "0                         Início do calendário anual  \n",
       "1  Em homenagem ao mártir da Inconfidência Mineir...  \n",
       "2                 Homenagem a todos os trabalhadores  \n",
       "3  Proclamação da Independência do domínio de Por...  \n",
       "4            Padroeira do país/Homenagem às crianças  \n",
       "5                          Dia de memória aos mortos  \n",
       "6          Transformação do Império em uma República  \n",
       "7       Morte do líder quilombola Zumbi dos Palmares  \n",
       "8                    Celebração tradicional de natal  "
      ]
     },
     "execution_count": 30,
     "metadata": {},
     "output_type": "execute_result"
    }
   ],
   "source": [
    "feriados"
   ]
  }
 ],
 "metadata": {
  "kernelspec": {
   "display_name": "Python 3",
   "language": "python",
   "name": "python3"
  },
  "language_info": {
   "codemirror_mode": {
    "name": "ipython",
    "version": 3
   },
   "file_extension": ".py",
   "mimetype": "text/x-python",
   "name": "python",
   "nbconvert_exporter": "python",
   "pygments_lexer": "ipython3",
   "version": "3.12.3"
  }
 },
 "nbformat": 4,
 "nbformat_minor": 2
}
