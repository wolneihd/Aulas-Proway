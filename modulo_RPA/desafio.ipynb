{
 "cells": [
  {
   "cell_type": "code",
   "execution_count": 160,
   "metadata": {},
   "outputs": [],
   "source": [
    "import pandas as pd\n",
    "import matplotlib.pyplot as plt\n",
    "import matplotlib.colors as mcolors"
   ]
  },
  {
   "cell_type": "code",
   "execution_count": 161,
   "metadata": {},
   "outputs": [
    {
     "data": {
      "text/html": [
       "<div>\n",
       "<style scoped>\n",
       "    .dataframe tbody tr th:only-of-type {\n",
       "        vertical-align: middle;\n",
       "    }\n",
       "\n",
       "    .dataframe tbody tr th {\n",
       "        vertical-align: top;\n",
       "    }\n",
       "\n",
       "    .dataframe thead th {\n",
       "        text-align: right;\n",
       "    }\n",
       "</style>\n",
       "<table border=\"1\" class=\"dataframe\">\n",
       "  <thead>\n",
       "    <tr style=\"text-align: right;\">\n",
       "      <th></th>\n",
       "      <th>loja</th>\n",
       "      <th>nome do modelo</th>\n",
       "      <th>valor</th>\n",
       "    </tr>\n",
       "  </thead>\n",
       "  <tbody>\n",
       "    <tr>\n",
       "      <th>0</th>\n",
       "      <td>Amazon</td>\n",
       "      <td>Smartphone Moto G54 5G 256GB 8GB RAM Azul - Ve...</td>\n",
       "      <td>1011</td>\n",
       "    </tr>\n",
       "    <tr>\n",
       "      <th>1</th>\n",
       "      <td>Mercado Livre</td>\n",
       "      <td>Smartphone Motorola Moto G54 5G 256 GB verde 8...</td>\n",
       "      <td>1028</td>\n",
       "    </tr>\n",
       "  </tbody>\n",
       "</table>\n",
       "</div>"
      ],
      "text/plain": [
       "            loja                                     nome do modelo  valor\n",
       "0         Amazon  Smartphone Moto G54 5G 256GB 8GB RAM Azul - Ve...   1011\n",
       "1  Mercado Livre  Smartphone Motorola Moto G54 5G 256 GB verde 8...   1028"
      ]
     },
     "execution_count": 161,
     "metadata": {},
     "output_type": "execute_result"
    }
   ],
   "source": [
    "motorola_g54 = pd.read_csv('motorola_g54.csv')\n",
    "motorola_g54.sort_values(by='valor',ascending=True)"
   ]
  },
  {
   "cell_type": "code",
   "execution_count": 162,
   "metadata": {},
   "outputs": [],
   "source": [
    "has_8GB = motorola_g54['nome do modelo'].str.contains('8GB', case=False, na=False)\n",
    "has_256GB = motorola_g54['nome do modelo'].str.contains('256GB', case=False, na=False)"
   ]
  },
  {
   "cell_type": "code",
   "execution_count": null,
   "metadata": {},
   "outputs": [
    {
     "data": {
      "text/html": [
       "<div>\n",
       "<style scoped>\n",
       "    .dataframe tbody tr th:only-of-type {\n",
       "        vertical-align: middle;\n",
       "    }\n",
       "\n",
       "    .dataframe tbody tr th {\n",
       "        vertical-align: top;\n",
       "    }\n",
       "\n",
       "    .dataframe thead th {\n",
       "        text-align: right;\n",
       "    }\n",
       "</style>\n",
       "<table border=\"1\" class=\"dataframe\">\n",
       "  <thead>\n",
       "    <tr style=\"text-align: right;\">\n",
       "      <th></th>\n",
       "      <th>loja</th>\n",
       "      <th>nome do modelo</th>\n",
       "      <th>valor</th>\n",
       "      <th>8GB</th>\n",
       "      <th>256GB</th>\n",
       "    </tr>\n",
       "  </thead>\n",
       "  <tbody>\n",
       "    <tr>\n",
       "      <th>0</th>\n",
       "      <td>Amazon</td>\n",
       "      <td>Smartphone Moto G54 5G 256GB 8GB RAM Azul - Ve...</td>\n",
       "      <td>1011</td>\n",
       "      <td>SIM</td>\n",
       "      <td>SIM</td>\n",
       "    </tr>\n",
       "    <tr>\n",
       "      <th>1</th>\n",
       "      <td>Mercado Livre</td>\n",
       "      <td>Smartphone Motorola Moto G54 5G 256 GB verde 8...</td>\n",
       "      <td>1028</td>\n",
       "      <td>NÃO</td>\n",
       "      <td>NÃO</td>\n",
       "    </tr>\n",
       "  </tbody>\n",
       "</table>\n",
       "</div>"
      ],
      "text/plain": [
       "            loja                                     nome do modelo  valor  \\\n",
       "0         Amazon  Smartphone Moto G54 5G 256GB 8GB RAM Azul - Ve...   1011   \n",
       "1  Mercado Livre  Smartphone Motorola Moto G54 5G 256 GB verde 8...   1028   \n",
       "\n",
       "   8GB 256GB  \n",
       "0  SIM   SIM  \n",
       "1  NÃO   NÃO  "
      ]
     },
     "execution_count": 163,
     "metadata": {},
     "output_type": "execute_result"
    }
   ],
   "source": [
    "motorola_g54['8GB'] = has_8GB\n",
    "motorola_g54['256GB'] = has_256GB\n",
    "motorola_g54[['8GB', '256GB']] = motorola_g54[['8GB', '256GB']].replace({\n",
    "    True: 'SIM', \n",
    "    False: 'NÃO'})\n",
    "motorola_g54"
   ]
  },
  {
   "cell_type": "code",
   "execution_count": 164,
   "metadata": {},
   "outputs": [],
   "source": [
    "# squeeze transforma a coluna numa serie/array\n",
    "valores_g54 = motorola_g54['valor'].squeeze()\n",
    "lista_lojas = motorola_g54['loja'].squeeze()"
   ]
  },
  {
   "cell_type": "code",
   "execution_count": 165,
   "metadata": {},
   "outputs": [
    {
     "data": {
      "image/png": "[encoded data removed]",
      "text/plain": [
       "<Figure size 640x480 with 1 Axes>"
      ]
     },
     "metadata": {},
     "output_type": "display_data"
    }
   ],
   "source": [
    "# Criando o gráfico de barras\n",
    "plt.bar(lista_lojas, valores_g54, color=[mcolors.CSS4_COLORS['salmon'],mcolors.CSS4_COLORS['yellowgreen']], width=.75)\n",
    "plt.title('Gráfico de Barras')\n",
    "plt.xlabel('Loja')\n",
    "plt.ylabel('Valores')\n",
    "\n",
    "# Exibindo o gráfico\n",
    "plt.show()"
   ]
  }
 ],
 "metadata": {
  "kernelspec": {
   "display_name": "Python 3",
   "language": "python",
   "name": "python3"
  },
  "language_info": {
   "codemirror_mode": {
    "name": "ipython",
    "version": 3
   },
   "file_extension": ".py",
   "mimetype": "text/x-python",
   "name": "python",
   "nbconvert_exporter": "python",
   "pygments_lexer": "ipython3",
   "version": "3.12.3"
  }
 },
 "nbformat": 4,
 "nbformat_minor": 2
}
