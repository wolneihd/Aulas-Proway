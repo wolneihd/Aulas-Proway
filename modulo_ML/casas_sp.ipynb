{
 "cells": [
  {
   "cell_type": "code",
   "execution_count": 18,
   "metadata": {},
   "outputs": [],
   "source": [
    "import pandas as pd"
   ]
  },
  {
   "cell_type": "code",
   "execution_count": 19,
   "metadata": {},
   "outputs": [],
   "source": [
    "df = pd.read_csv('housing_sp_city.csv', encoding='latin-1')"
   ]
  },
  {
   "cell_type": "code",
   "execution_count": 20,
   "metadata": {},
   "outputs": [
    {
     "data": {
      "text/html": [
       "<div>\n",
       "<style scoped>\n",
       "    .dataframe tbody tr th:only-of-type {\n",
       "        vertical-align: middle;\n",
       "    }\n",
       "\n",
       "    .dataframe tbody tr th {\n",
       "        vertical-align: top;\n",
       "    }\n",
       "\n",
       "    .dataframe thead th {\n",
       "        text-align: right;\n",
       "    }\n",
       "</style>\n",
       "<table border=\"1\" class=\"dataframe\">\n",
       "  <thead>\n",
       "    <tr style=\"text-align: right;\">\n",
       "      <th></th>\n",
       "      <th>logradouro</th>\n",
       "      <th>bairro</th>\n",
       "      <th>preco_venda</th>\n",
       "    </tr>\n",
       "  </thead>\n",
       "  <tbody>\n",
       "    <tr>\n",
       "      <th>1472</th>\n",
       "      <td>Avenida Paes de Barros</td>\n",
       "      <td>Parque da Mooca</td>\n",
       "      <td>70</td>\n",
       "    </tr>\n",
       "    <tr>\n",
       "      <th>73411</th>\n",
       "      <td>Rua Ricardo Butarello</td>\n",
       "      <td>Jardim Matarazzo</td>\n",
       "      <td>77</td>\n",
       "    </tr>\n",
       "    <tr>\n",
       "      <th>70438</th>\n",
       "      <td>Rua Ricardo Butarello</td>\n",
       "      <td>Jardim Matarazzo</td>\n",
       "      <td>77</td>\n",
       "    </tr>\n",
       "    <tr>\n",
       "      <th>1825</th>\n",
       "      <td>Rua Paim</td>\n",
       "      <td>Bela Vista</td>\n",
       "      <td>106</td>\n",
       "    </tr>\n",
       "    <tr>\n",
       "      <th>2250</th>\n",
       "      <td>Rua Guaraja</td>\n",
       "      <td>Vila Mazzei</td>\n",
       "      <td>106</td>\n",
       "    </tr>\n",
       "    <tr>\n",
       "      <th>...</th>\n",
       "      <td>...</td>\n",
       "      <td>...</td>\n",
       "      <td>...</td>\n",
       "    </tr>\n",
       "    <tr>\n",
       "      <th>105100</th>\n",
       "      <td>Rua da ConsolaÃ§Ã£o</td>\n",
       "      <td>ConsolaÃ§Ã£o</td>\n",
       "      <td>52500000</td>\n",
       "    </tr>\n",
       "    <tr>\n",
       "      <th>126922</th>\n",
       "      <td>Avenida Queiroz Filho</td>\n",
       "      <td>Vila Hamburguesa</td>\n",
       "      <td>56000000</td>\n",
       "    </tr>\n",
       "    <tr>\n",
       "      <th>108893</th>\n",
       "      <td>Avenida Ragueb Chohfi</td>\n",
       "      <td>Jardim TrÃªs Marias</td>\n",
       "      <td>70000000</td>\n",
       "    </tr>\n",
       "    <tr>\n",
       "      <th>3076</th>\n",
       "      <td>Alameda Campinas</td>\n",
       "      <td>Jardim Paulista</td>\n",
       "      <td>74200000</td>\n",
       "    </tr>\n",
       "    <tr>\n",
       "      <th>875</th>\n",
       "      <td>Rua ArarÃ©</td>\n",
       "      <td>ChÃ¡cara Inglesa</td>\n",
       "      <td>84000000</td>\n",
       "    </tr>\n",
       "  </tbody>\n",
       "</table>\n",
       "<p>133964 rows × 3 columns</p>\n",
       "</div>"
      ],
      "text/plain": [
       "                    logradouro               bairro  preco_venda\n",
       "1472    Avenida Paes de Barros      Parque da Mooca           70\n",
       "73411    Rua Ricardo Butarello     Jardim Matarazzo           77\n",
       "70438    Rua Ricardo Butarello     Jardim Matarazzo           77\n",
       "1825                  Rua Paim           Bela Vista          106\n",
       "2250               Rua Guaraja          Vila Mazzei          106\n",
       "...                        ...                  ...          ...\n",
       "105100     Rua da ConsolaÃ§Ã£o         ConsolaÃ§Ã£o     52500000\n",
       "126922   Avenida Queiroz Filho     Vila Hamburguesa     56000000\n",
       "108893   Avenida Ragueb Chohfi  Jardim TrÃªs Marias     70000000\n",
       "3076          Alameda Campinas      Jardim Paulista     74200000\n",
       "875                 Rua ArarÃ©     ChÃ¡cara Inglesa     84000000\n",
       "\n",
       "[133964 rows x 3 columns]"
      ]
     },
     "execution_count": 20,
     "metadata": {},
     "output_type": "execute_result"
    }
   ],
   "source": [
    "df[['logradouro','bairro', 'preco_venda']].sort_values(by='preco_venda')"
   ]
  }
 ],
 "metadata": {
  "kernelspec": {
   "display_name": "Python 3",
   "language": "python",
   "name": "python3"
  },
  "language_info": {
   "codemirror_mode": {
    "name": "ipython",
    "version": 3
   },
   "file_extension": ".py",
   "mimetype": "text/x-python",
   "name": "python",
   "nbconvert_exporter": "python",
   "pygments_lexer": "ipython3",
   "version": "3.12.3"
  }
 },
 "nbformat": 4,
 "nbformat_minor": 2
}
