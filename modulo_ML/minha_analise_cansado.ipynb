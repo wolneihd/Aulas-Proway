{
 "cells": [
  {
   "cell_type": "markdown",
   "metadata": {},
   "source": [
    "<p style=\"font-size:14px\">\n",
    "Em cenários acadêmicos, o desempenho dos alunos pode ser influenciado por diversos fatores, sendo as horas de estudo uma das mais óbvias. No entanto, o cansaço também pode ser um fator relevante, onde estudar por muitas horas seguidas pode resultar em uma menor eficiência, refletindo em notas mais baixas. Portanto, a proposta aqui é:\n",
    "</p>\n",
    "\n",
    "### Proposta 📋\n",
    "\n",
    "<p style=\"font-size:14px\">\n",
    "1. Restringir o tempo máximo de estudo a 24 horas;<br>\n",
    "2. Garantir que a nota final nunca ultrapasse o valor máximo de 100;<br>\n",
    "3. Considerar se o aluno está \"cansado\" (0 para não cansado e 1 para cansado), o que impacta negativamente a nota.\n",
    "</p>\n",
    "\n",
    "### Observações 📋\n",
    "\n",
    "<p style=\"font-size:14px\">\n",
    "1. Horas de Estudo: Um valor entre 0 e 24, onde quanto mais tempo o aluno estuda, maior a nota. No entanto, o efeito do estudo tem limites, e a produtividade começa a cair após um certo número de horas.<br> \n",
    "2. Cansado: Um valor binário (0 ou 1), onde \"1\" indica que o aluno está cansado, resultando em uma redução na nota final. <br>\n",
    "3. O desempenho final (nota) é calculado com base nas horas de estudo, mas limitado ao valor máximo de 100. <br>\n",
    "4. Se o aluno está cansado, a nota é reduzida. As notas são geradas com base em uma função linear, multiplicando as horas de estudo por um fator aleatório (para simular variações na eficiência), e se o aluno estiver cansado, subtraímos pontos da nota final.\n",
    "</p>"
   ]
  },
  {
   "cell_type": "markdown",
   "metadata": {},
   "source": []
  },
  {
   "cell_type": "code",
   "execution_count": 159,
   "metadata": {},
   "outputs": [],
   "source": [
    "import numpy as np\n",
    "import pandas as pd\n",
    "import matplotlib.pyplot as plt"
   ]
  },
  {
   "cell_type": "code",
   "execution_count": 160,
   "metadata": {},
   "outputs": [],
   "source": [
    "# Considerando os valores em AULA:"
   ]
  },
  {
   "cell_type": "code",
   "execution_count": 161,
   "metadata": {},
   "outputs": [],
   "source": [
    "# Gerar Seed:\n",
    "np.random.seed()\n",
    "n_samples = 1_000\n",
    "\n",
    "# gerar Arrays:\n",
    "horas_estudo = np.random.uniform(0,24,n_samples)\n",
    "cansado = np.random.choice([0,1], n_samples)\n",
    "# nota = np.random.choice(range(0,100), n_samples)\n",
    "nota = np.minimum(horas_estudo * np.random.uniform(3, 5), 100) - (cansado * 10)"
   ]
  },
  {
   "cell_type": "code",
   "execution_count": 162,
   "metadata": {},
   "outputs": [
    {
     "data": {
      "text/plain": [
       "588    -9.940287\n",
       "136    -9.710923\n",
       "26     -9.693482\n",
       "18     -9.650797\n",
       "606    -9.635226\n",
       "         ...    \n",
       "437    81.040118\n",
       "48     81.317424\n",
       "921    81.526038\n",
       "384    81.536648\n",
       "633    81.750193\n",
       "Length: 1000, dtype: float64"
      ]
     },
     "execution_count": 162,
     "metadata": {},
     "output_type": "execute_result"
    }
   ],
   "source": [
    "pd.Series(nota).sort_values()"
   ]
  },
  {
   "cell_type": "code",
   "execution_count": 163,
   "metadata": {},
   "outputs": [],
   "source": [
    "nota = np.clip(nota, 0, 100)"
   ]
  },
  {
   "cell_type": "code",
   "execution_count": 164,
   "metadata": {},
   "outputs": [
    {
     "data": {
      "text/html": [
       "<div>\n",
       "<style scoped>\n",
       "    .dataframe tbody tr th:only-of-type {\n",
       "        vertical-align: middle;\n",
       "    }\n",
       "\n",
       "    .dataframe tbody tr th {\n",
       "        vertical-align: top;\n",
       "    }\n",
       "\n",
       "    .dataframe thead th {\n",
       "        text-align: right;\n",
       "    }\n",
       "</style>\n",
       "<table border=\"1\" class=\"dataframe\">\n",
       "  <thead>\n",
       "    <tr style=\"text-align: right;\">\n",
       "      <th></th>\n",
       "      <th>Horas de estudo</th>\n",
       "      <th>Cansado</th>\n",
       "      <th>Nota</th>\n",
       "    </tr>\n",
       "  </thead>\n",
       "  <tbody>\n",
       "    <tr>\n",
       "      <th>0</th>\n",
       "      <td>16.546268</td>\n",
       "      <td>0</td>\n",
       "      <td>56.514290</td>\n",
       "    </tr>\n",
       "    <tr>\n",
       "      <th>1</th>\n",
       "      <td>8.124361</td>\n",
       "      <td>0</td>\n",
       "      <td>27.749006</td>\n",
       "    </tr>\n",
       "    <tr>\n",
       "      <th>2</th>\n",
       "      <td>14.209173</td>\n",
       "      <td>1</td>\n",
       "      <td>38.531871</td>\n",
       "    </tr>\n",
       "    <tr>\n",
       "      <th>3</th>\n",
       "      <td>14.564423</td>\n",
       "      <td>0</td>\n",
       "      <td>49.745236</td>\n",
       "    </tr>\n",
       "    <tr>\n",
       "      <th>4</th>\n",
       "      <td>9.863370</td>\n",
       "      <td>1</td>\n",
       "      <td>23.688644</td>\n",
       "    </tr>\n",
       "  </tbody>\n",
       "</table>\n",
       "</div>"
      ],
      "text/plain": [
       "   Horas de estudo  Cansado       Nota\n",
       "0        16.546268        0  56.514290\n",
       "1         8.124361        0  27.749006\n",
       "2        14.209173        1  38.531871\n",
       "3        14.564423        0  49.745236\n",
       "4         9.863370        1  23.688644"
      ]
     },
     "execution_count": 164,
     "metadata": {},
     "output_type": "execute_result"
    }
   ],
   "source": [
    "# Garantir os valores corretos\n",
    "data = pd.DataFrame({\n",
    "    'Horas de estudo': horas_estudo,\n",
    "    'Cansado': cansado,\n",
    "    'Nota':nota\n",
    "})\n",
    "data.head()"
   ]
  },
  {
   "cell_type": "code",
   "execution_count": 165,
   "metadata": {},
   "outputs": [],
   "source": [
    "hora_de_estudo = data['Horas de estudo'].values\n",
    "valor_nota = data['Nota'].values"
   ]
  },
  {
   "cell_type": "code",
   "execution_count": 166,
   "metadata": {},
   "outputs": [
    {
     "data": {
      "text/plain": [
       "array([16.54626833,  8.12436113, 14.20917345, 14.56442289,  9.86336976])"
      ]
     },
     "execution_count": 166,
     "metadata": {},
     "output_type": "execute_result"
    }
   ],
   "source": [
    "hora_de_estudo[:5]"
   ]
  },
  {
   "cell_type": "code",
   "execution_count": 167,
   "metadata": {},
   "outputs": [
    {
     "data": {
      "text/plain": [
       "array([56.51429039, 27.74900628, 38.53187066, 49.74523608, 23.68864395])"
      ]
     },
     "execution_count": 167,
     "metadata": {},
     "output_type": "execute_result"
    }
   ],
   "source": [
    "\n",
    "valor_nota[:5]"
   ]
  },
  {
   "cell_type": "code",
   "execution_count": 168,
   "metadata": {},
   "outputs": [
    {
     "data": {
      "image/png": "[encoded data removed]",
      "text/plain": [
       "<Figure size 640x480 with 1 Axes>"
      ]
     },
     "metadata": {},
     "output_type": "display_data"
    }
   ],
   "source": [
    "plt.style.use('classic')\n",
    "\n",
    "# plot\n",
    "fig, ax = plt.subplots()\n",
    "ax.scatter(\n",
    "    x=hora_de_estudo, \n",
    "    y=valor_nota\n",
    "    )\n",
    "\n",
    "plt.grid()\n",
    "plt.xlabel('Horas de estudo')\n",
    "plt.ylabel('Nota')\n",
    "\n",
    "plt.show()"
   ]
  },
  {
   "cell_type": "code",
   "execution_count": null,
   "metadata": {},
   "outputs": [],
   "source": []
  }
 ],
 "metadata": {
  "kernelspec": {
   "display_name": "Python 3",
   "language": "python",
   "name": "python3"
  },
  "language_info": {
   "codemirror_mode": {
    "name": "ipython",
    "version": 3
   },
   "file_extension": ".py",
   "mimetype": "text/x-python",
   "name": "python",
   "nbconvert_exporter": "python",
   "pygments_lexer": "ipython3",
   "version": "3.12.3"
  }
 },
 "nbformat": 4,
 "nbformat_minor": 2
}
