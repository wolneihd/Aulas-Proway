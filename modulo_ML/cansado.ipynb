{
 "cells": [
  {
   "cell_type": "markdown",
   "metadata": {},
   "source": [
    "Em cenários acadêmicos, o desempenho dos alunos pode ser influenciado por diversos fatores, sendo as horas de estudo uma das mais óbvias. No entanto, o cansaço também pode ser um fator relevante, onde estudar por muitas horas seguidas pode resultar em uma menor eficiência, refletindo em notas mais baixas. Portanto, a proposta aqui é:\n",
    "\n",
    "Restringir o tempo máximo de estudo a 24 horas. Garantir que a nota final nunca ultrapasse o valor máximo de 100. Considerar se o aluno está \"cansado\" (0 para não cansado e 1 para cansado), o que impacta negativamente a nota."
   ]
  },
  {
   "cell_type": "markdown",
   "metadata": {},
   "source": [
    "Horas de Estudo: Um valor entre 0 e 24, onde quanto mais tempo o aluno estuda, maior a nota. No entanto, o efeito do estudo tem limites, e a produtividade começa a cair após um certo número de horas. Cansado: Um valor binário (0 ou 1), onde \"1\" indica que o aluno está cansado, resultando em uma redução na nota final. Nota: O desempenho final (nota) é calculado com base nas horas de estudo, mas limitado ao valor máximo de 100. Se o aluno está cansado, a nota é reduzida. As notas são geradas com base em uma função linear, multiplicando as horas de estudo por um fator aleatório (para simular variações na eficiência), e se o aluno estiver cansado, subtraímos pontos da nota final."
   ]
  },
  {
   "cell_type": "code",
   "execution_count": 63,
   "metadata": {},
   "outputs": [],
   "source": [
    "import numpy as np\n",
    "import pandas as pd\n",
    "from sklearn.model_selection import train_test_split\n",
    "from sklearn.linear_model import LinearRegression\n",
    "import matplotlib.pyplot as plt"
   ]
  },
  {
   "cell_type": "code",
   "execution_count": 64,
   "metadata": {},
   "outputs": [],
   "source": [
    "# Gerar Seed:\n",
    "np.random.seed()\n",
    "n_samples = 10_000\n",
    "\n",
    "# gerar Arrays:\n",
    "horas_estudo = np.random.uniform(0,24,n_samples)\n",
    "cansado = np.random.choice([0,1], n_samples)\n",
    "nota = np.minimum(horas_estudo * np.random.uniform(3,5), 100)- (cansado * 10)"
   ]
  },
  {
   "cell_type": "code",
   "execution_count": 65,
   "metadata": {},
   "outputs": [
    {
     "data": {
      "text/plain": [
       "7239     -9.973536\n",
       "9494     -9.940371\n",
       "7560     -9.929573\n",
       "6804     -9.893387\n",
       "9834     -9.883205\n",
       "           ...    \n",
       "5407    100.000000\n",
       "3452    100.000000\n",
       "4101    100.000000\n",
       "8448    100.000000\n",
       "1865    100.000000\n",
       "Length: 10000, dtype: float64"
      ]
     },
     "execution_count": 65,
     "metadata": {},
     "output_type": "execute_result"
    }
   ],
   "source": [
    "pd.Series(nota).sort_values()"
   ]
  },
  {
   "cell_type": "code",
   "execution_count": 66,
   "metadata": {},
   "outputs": [],
   "source": [
    "nota = np.clip(nota, 0, 100)"
   ]
  },
  {
   "cell_type": "code",
   "execution_count": 67,
   "metadata": {},
   "outputs": [
    {
     "data": {
      "text/html": [
       "<div>\n",
       "<style scoped>\n",
       "    .dataframe tbody tr th:only-of-type {\n",
       "        vertical-align: middle;\n",
       "    }\n",
       "\n",
       "    .dataframe tbody tr th {\n",
       "        vertical-align: top;\n",
       "    }\n",
       "\n",
       "    .dataframe thead th {\n",
       "        text-align: right;\n",
       "    }\n",
       "</style>\n",
       "<table border=\"1\" class=\"dataframe\">\n",
       "  <thead>\n",
       "    <tr style=\"text-align: right;\">\n",
       "      <th></th>\n",
       "      <th>Horas de estudo</th>\n",
       "      <th>Cansado</th>\n",
       "      <th>Nota</th>\n",
       "    </tr>\n",
       "  </thead>\n",
       "  <tbody>\n",
       "    <tr>\n",
       "      <th>2471</th>\n",
       "      <td>0.246469</td>\n",
       "      <td>1</td>\n",
       "      <td>0.0</td>\n",
       "    </tr>\n",
       "    <tr>\n",
       "      <th>6606</th>\n",
       "      <td>0.658370</td>\n",
       "      <td>1</td>\n",
       "      <td>0.0</td>\n",
       "    </tr>\n",
       "    <tr>\n",
       "      <th>3835</th>\n",
       "      <td>0.966404</td>\n",
       "      <td>1</td>\n",
       "      <td>0.0</td>\n",
       "    </tr>\n",
       "    <tr>\n",
       "      <th>7865</th>\n",
       "      <td>1.066886</td>\n",
       "      <td>1</td>\n",
       "      <td>0.0</td>\n",
       "    </tr>\n",
       "    <tr>\n",
       "      <th>4280</th>\n",
       "      <td>0.640427</td>\n",
       "      <td>1</td>\n",
       "      <td>0.0</td>\n",
       "    </tr>\n",
       "  </tbody>\n",
       "</table>\n",
       "</div>"
      ],
      "text/plain": [
       "      Horas de estudo  Cansado  Nota\n",
       "2471         0.246469        1   0.0\n",
       "6606         0.658370        1   0.0\n",
       "3835         0.966404        1   0.0\n",
       "7865         1.066886        1   0.0\n",
       "4280         0.640427        1   0.0"
      ]
     },
     "execution_count": 67,
     "metadata": {},
     "output_type": "execute_result"
    }
   ],
   "source": [
    "# Garantir os valores corretos\n",
    "data = pd.DataFrame({\n",
    "    'Horas de estudo': horas_estudo,\n",
    "    'Cansado': cansado,\n",
    "    'Nota':nota\n",
    "})\n",
    "data.sort_values('Nota').head()"
   ]
  },
  {
   "cell_type": "code",
   "execution_count": 68,
   "metadata": {},
   "outputs": [
    {
     "name": "stdout",
     "output_type": "stream",
     "text": [
      "<class 'pandas.core.frame.DataFrame'>\n",
      "RangeIndex: 10000 entries, 0 to 9999\n",
      "Data columns (total 3 columns):\n",
      " #   Column           Non-Null Count  Dtype  \n",
      "---  ------           --------------  -----  \n",
      " 0   Horas de estudo  10000 non-null  float64\n",
      " 1   Cansado          10000 non-null  int32  \n",
      " 2   Nota             10000 non-null  float64\n",
      "dtypes: float64(2), int32(1)\n",
      "memory usage: 195.4 KB\n"
     ]
    }
   ],
   "source": [
    "data.info()"
   ]
  },
  {
   "cell_type": "code",
   "execution_count": 69,
   "metadata": {},
   "outputs": [],
   "source": [
    "# Treinamento:\n",
    "# Dividir treino e teste >>\n",
    "X = data[[\"Horas de estudo\",\"Cansado\"]]\n",
    "y = data[[\"Nota\"]]"
   ]
  },
  {
   "cell_type": "code",
   "execution_count": 70,
   "metadata": {},
   "outputs": [],
   "source": [
    "# Criar variáveis de treino e teste:\n",
    "X_train, X_teste, y_train, y_test = train_test_split(X, y, test_size=0.3, random_state=0)"
   ]
  }
 ],
 "metadata": {
  "kernelspec": {
   "display_name": "Python 3",
   "language": "python",
   "name": "python3"
  },
  "language_info": {
   "codemirror_mode": {
    "name": "ipython",
    "version": 3
   },
   "file_extension": ".py",
   "mimetype": "text/x-python",
   "name": "python",
   "nbconvert_exporter": "python",
   "pygments_lexer": "ipython3",
   "version": "3.12.3"
  }
 },
 "nbformat": 4,
 "nbformat_minor": 2
}
