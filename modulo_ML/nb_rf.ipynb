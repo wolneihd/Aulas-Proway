{
 "cells": [
  {
   "cell_type": "code",
   "execution_count": 73,
   "metadata": {},
   "outputs": [],
   "source": [
    "import pandas as pd\n",
    "import numpy as np\n",
    "from sklearn.model_selection import train_test_split\n",
    "from sklearn.metrics import accuracy_score, confusion_matrix, classification_report\n",
    "from sklearn.naive_bayes import MultinomialNB\n",
    "from sklearn.feature_extraction.text import CountVectorizer\n",
    "import matplotlib.pyplot as plt\n",
    "from sklearn.ensemble import RandomForestClassifier\n",
    "from sklearn import tree"
   ]
  },
  {
   "cell_type": "code",
   "execution_count": 74,
   "metadata": {},
   "outputs": [],
   "source": [
    "data = data = {\n",
    "    'email': [\n",
    "        \"Compre agora a oferta grátis\",  # SPAM\n",
    "        \"Clique aqui para ganhar prêmio\",  # SPAM\n",
    "        \"Reunião agendada para segunda\",  # NÃO SPAM\n",
    "        \"Oferta exclusiva para você\",  # SPAM\n",
    "        \"Vamos almoçar amanhã?\",  # NÃO SPAM\n",
    "        \"Grátis: sua consulta médica\",  # SPAM\n",
    "        \"Confirme sua inscrição no evento\",  # NÃO SPAM\n",
    "        \"Grátis, clique aqui para baixar\",  # SPAM\n",
    "        \"Atualização importante do projeto\",  # NÃO SPAM\n",
    "        \"Oferta limitada, clique e ganhe\",  # SPAM\n",
    "        \"Parabéns, você foi selecionado\",  # SPAM\n",
    "        \"Relatório final enviado\",  # NÃO SPAM\n",
    "        \"Sua fatura vence hoje\",  # NÃO SPAM\n",
    "        \"Ganhe dinheiro rápido e fácil\",  # SPAM\n",
    "        \"Aceite nossa oferta especial\",  # SPAM\n",
    "        \"Vamos discutir aquele contrato?\",  # NÃO SPAM\n",
    "        \"Última chance de participar\",  # SPAM\n",
    "        \"A reunião foi adiada para terça\",  # NÃO SPAM\n",
    "        \"Inscreva-se agora e ganhe bônus\",  # SPAM\n",
    "        \"Confirmação de pagamento recebida\",  # NÃO SPAM\n",
    "        \"Presente grátis para você\",  # SPAM\n",
    "        \"Desconto exclusivo, compre agora\",  # SPAM\n",
    "        \"Proposta de parceria\",  # NÃO SPAM\n",
    "        \"Seu pedido foi enviado\",  # NÃO SPAM\n",
    "        \"Ganhe prêmios ao clicar aqui\",  # SPAM\n",
    "        \"Agende sua consulta\",  # NÃO SPAM\n",
    "    ],\n",
    "    'label': [\n",
    "        'spam', 'spam', 'não spam', 'spam', 'não spam',\n",
    "        'spam', 'não spam', 'spam', 'não spam', 'spam',\n",
    "        'spam', 'não spam', 'não spam', 'spam', 'spam',\n",
    "        'não spam', 'spam', 'não spam', 'spam', 'não spam',\n",
    "        'spam', 'spam', 'não spam', 'não spam', 'spam',\n",
    "        'não spam',\n",
    "    ]\n",
    "}"
   ]
  },
  {
   "cell_type": "code",
   "execution_count": 75,
   "metadata": {},
   "outputs": [
    {
     "data": {
      "text/html": [
       "<div>\n",
       "<style scoped>\n",
       "    .dataframe tbody tr th:only-of-type {\n",
       "        vertical-align: middle;\n",
       "    }\n",
       "\n",
       "    .dataframe tbody tr th {\n",
       "        vertical-align: top;\n",
       "    }\n",
       "\n",
       "    .dataframe thead th {\n",
       "        text-align: right;\n",
       "    }\n",
       "</style>\n",
       "<table border=\"1\" class=\"dataframe\">\n",
       "  <thead>\n",
       "    <tr style=\"text-align: right;\">\n",
       "      <th></th>\n",
       "      <th>email</th>\n",
       "      <th>label</th>\n",
       "    </tr>\n",
       "  </thead>\n",
       "  <tbody>\n",
       "    <tr>\n",
       "      <th>12</th>\n",
       "      <td>Sua fatura vence hoje</td>\n",
       "      <td>não spam</td>\n",
       "    </tr>\n",
       "    <tr>\n",
       "      <th>23</th>\n",
       "      <td>Seu pedido foi enviado</td>\n",
       "      <td>não spam</td>\n",
       "    </tr>\n",
       "    <tr>\n",
       "      <th>22</th>\n",
       "      <td>Proposta de parceria</td>\n",
       "      <td>não spam</td>\n",
       "    </tr>\n",
       "    <tr>\n",
       "      <th>19</th>\n",
       "      <td>Confirmação de pagamento recebida</td>\n",
       "      <td>não spam</td>\n",
       "    </tr>\n",
       "    <tr>\n",
       "      <th>17</th>\n",
       "      <td>A reunião foi adiada para terça</td>\n",
       "      <td>não spam</td>\n",
       "    </tr>\n",
       "  </tbody>\n",
       "</table>\n",
       "</div>"
      ],
      "text/plain": [
       "                                email     label\n",
       "12              Sua fatura vence hoje  não spam\n",
       "23             Seu pedido foi enviado  não spam\n",
       "22               Proposta de parceria  não spam\n",
       "19  Confirmação de pagamento recebida  não spam\n",
       "17    A reunião foi adiada para terça  não spam"
      ]
     },
     "execution_count": 75,
     "metadata": {},
     "output_type": "execute_result"
    }
   ],
   "source": [
    "data = pd.DataFrame(data)\n",
    "data.sort_values(by='label').head()"
   ]
  },
  {
   "cell_type": "code",
   "execution_count": null,
   "metadata": {},
   "outputs": [],
   "source": [
    "# vetorizar:\n",
    "X = data['email']\n",
    "y = data['label']\n",
    "\n",
    "vetorizar = CountVectorizer()\n",
    "X_vetorized = vetorizar.fit_transform(X)\n",
    "\n",
    "# test-size: era o tamanho da relação teste x treino.\n",
    "X_train, X_test, y_train, y_test = train_test_split(X_vetorized, y, test_size=.3, random_state=42)"
   ]
  },
  {
   "cell_type": "code",
   "execution_count": 77,
   "metadata": {},
   "outputs": [
    {
     "name": "stdout",
     "output_type": "stream",
     "text": [
      "A Naive_BAYES acurário é:  0.875\n"
     ]
    }
   ],
   "source": [
    "# Naive Bayes:\n",
    "naive_bayes = MultinomialNB()\n",
    "naive_bayes.fit(X_train, y_train)\n",
    "y_pred = naive_bayes.predict(X_test)\n",
    "accuracy = accuracy_score(y_test, y_pred)\n",
    "print(f'A Naive_BAYES acurário é: ', accuracy)"
   ]
  },
  {
   "cell_type": "code",
   "execution_count": 78,
   "metadata": {},
   "outputs": [
    {
     "name": "stdout",
     "output_type": "stream",
     "text": [
      "A acurácia CLF é:  0.5\n"
     ]
    }
   ],
   "source": [
    "# Decision Tree\n",
    "clf = tree.DecisionTreeClassifier(random_state=42)\n",
    "clf.fit(X_train, y_train)\n",
    "y_pred_clf = clf.predict(X_test)\n",
    "acuracia_clf = accuracy_score(y_test, y_pred_clf)\n",
    "print(\"A acurácia CLF é: \", acuracia_clf)"
   ]
  },
  {
   "cell_type": "code",
   "execution_count": 79,
   "metadata": {},
   "outputs": [
    {
     "name": "stdout",
     "output_type": "stream",
     "text": [
      "A acurácia RF é:  0.625\n"
     ]
    }
   ],
   "source": [
    "# Random Forest:\n",
    "rfClassifier = RandomForestClassifier(n_estimators= 100, random_state=42)\n",
    "rfClassifier.fit(X_train, y_train)\n",
    "y_pred = rfClassifier.predict(X_test)\n",
    "acuracia = accuracy_score(y_test, y_pred)\n",
    "print(\"A acurácia RF é: \", acuracia)"
   ]
  },
  {
   "cell_type": "code",
   "execution_count": 83,
   "metadata": {},
   "outputs": [],
   "source": [
    "novo_email = ['Oportunidade de emprego. Clique Aqui!']"
   ]
  },
  {
   "cell_type": "code",
   "execution_count": 84,
   "metadata": {},
   "outputs": [
    {
     "data": {
      "text/plain": [
       "\"naive_bayes: ['spam']\""
      ]
     },
     "execution_count": 84,
     "metadata": {},
     "output_type": "execute_result"
    }
   ],
   "source": [
    "novo_email_vetorizado = vetorizar.transform(novo_email)\n",
    "previsao = naive_bayes.predict(novo_email_vetorizado)\n",
    "f'naive_bayes: {previsao}'"
   ]
  },
  {
   "cell_type": "code",
   "execution_count": 85,
   "metadata": {},
   "outputs": [
    {
     "data": {
      "text/plain": [
       "\"rfClassifier ['não spam']\""
      ]
     },
     "execution_count": 85,
     "metadata": {},
     "output_type": "execute_result"
    }
   ],
   "source": [
    "novo_email_vetorizado = vetorizar.transform(novo_email)\n",
    "previsao = rfClassifier.predict(novo_email_vetorizado)\n",
    "f'rfClassifier {previsao}'"
   ]
  },
  {
   "cell_type": "code",
   "execution_count": 86,
   "metadata": {},
   "outputs": [
    {
     "data": {
      "text/plain": [
       "\"clf ['não spam']\""
      ]
     },
     "execution_count": 86,
     "metadata": {},
     "output_type": "execute_result"
    }
   ],
   "source": [
    "novo_email_vetorizado = vetorizar.transform(novo_email)\n",
    "previsao = clf.predict(novo_email_vetorizado)\n",
    "f'clf {previsao}'"
   ]
  }
 ],
 "metadata": {
  "kernelspec": {
   "display_name": "Python 3",
   "language": "python",
   "name": "python3"
  },
  "language_info": {
   "codemirror_mode": {
    "name": "ipython",
    "version": 3
   },
   "file_extension": ".py",
   "mimetype": "text/x-python",
   "name": "python",
   "nbconvert_exporter": "python",
   "pygments_lexer": "ipython3",
   "version": "3.12.3"
  }
 },
 "nbformat": 4,
 "nbformat_minor": 2
}
