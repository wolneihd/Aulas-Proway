{
 "cells": [
  {
   "cell_type": "code",
   "execution_count": 2,
   "metadata": {},
   "outputs": [],
   "source": [
    "import numpy as np\n",
    "import pandas as pd\n",
    "from sklearn.model_selection import train_test_split\n",
    "from sklearn.metrics import accuracy_score, confusion_matrix, classification_report\n",
    "from sklearn.feature_extraction.text import CountVectorizer\n",
    "from sklearn.ensemble import RandomForestClassifier"
   ]
  },
  {
   "cell_type": "code",
   "execution_count": 3,
   "metadata": {},
   "outputs": [],
   "source": [
    "data = {\n",
    "    'email': [\n",
    "        \"Compre agora a oferta grátis\",  # SPAM\n",
    "        \"Clique aqui para ganhar prêmio\",  # SPAM\n",
    "        \"Reunião agendada para segunda\",  # NÃO SPAM\n",
    "        \"Oferta exclusiva para você\",  # SPAM\n",
    "        \"Vamos almoçar amanhã?\",  # NÃO SPAM\n",
    "        \"Grátis: sua consulta médica\",  # SPAM\n",
    "        \"Confirme sua inscrição no evento\",  # NÃO SPAM\n",
    "        \"Grátis, clique aqui para baixar\",  # SPAM\n",
    "        \"Atualização importante do projeto\",  # NÃO SPAM\n",
    "        \"Oferta limitada, clique e ganhe\",  # SPAM\n",
    "    ],\n",
    "    'label': [\n",
    "        'spam', 'spam', 'não spam', 'spam', 'não spam',\n",
    "        'spam', 'não spam', 'spam', 'não spam', 'spam'\n",
    "    ]\n",
    "}"
   ]
  },
  {
   "cell_type": "code",
   "execution_count": 4,
   "metadata": {},
   "outputs": [
    {
     "data": {
      "text/html": [
       "<div>\n",
       "<style scoped>\n",
       "    .dataframe tbody tr th:only-of-type {\n",
       "        vertical-align: middle;\n",
       "    }\n",
       "\n",
       "    .dataframe tbody tr th {\n",
       "        vertical-align: top;\n",
       "    }\n",
       "\n",
       "    .dataframe thead th {\n",
       "        text-align: right;\n",
       "    }\n",
       "</style>\n",
       "<table border=\"1\" class=\"dataframe\">\n",
       "  <thead>\n",
       "    <tr style=\"text-align: right;\">\n",
       "      <th></th>\n",
       "      <th>email</th>\n",
       "      <th>label</th>\n",
       "    </tr>\n",
       "  </thead>\n",
       "  <tbody>\n",
       "    <tr>\n",
       "      <th>0</th>\n",
       "      <td>Compre agora a oferta grátis</td>\n",
       "      <td>spam</td>\n",
       "    </tr>\n",
       "    <tr>\n",
       "      <th>1</th>\n",
       "      <td>Clique aqui para ganhar prêmio</td>\n",
       "      <td>spam</td>\n",
       "    </tr>\n",
       "    <tr>\n",
       "      <th>2</th>\n",
       "      <td>Reunião agendada para segunda</td>\n",
       "      <td>não spam</td>\n",
       "    </tr>\n",
       "    <tr>\n",
       "      <th>3</th>\n",
       "      <td>Oferta exclusiva para você</td>\n",
       "      <td>spam</td>\n",
       "    </tr>\n",
       "    <tr>\n",
       "      <th>4</th>\n",
       "      <td>Vamos almoçar amanhã?</td>\n",
       "      <td>não spam</td>\n",
       "    </tr>\n",
       "  </tbody>\n",
       "</table>\n",
       "</div>"
      ],
      "text/plain": [
       "                            email     label\n",
       "0    Compre agora a oferta grátis      spam\n",
       "1  Clique aqui para ganhar prêmio      spam\n",
       "2   Reunião agendada para segunda  não spam\n",
       "3      Oferta exclusiva para você      spam\n",
       "4           Vamos almoçar amanhã?  não spam"
      ]
     },
     "execution_count": 4,
     "metadata": {},
     "output_type": "execute_result"
    }
   ],
   "source": [
    "df = pd.DataFrame(data)\n",
    "df.head()"
   ]
  },
  {
   "cell_type": "code",
   "execution_count": 5,
   "metadata": {},
   "outputs": [],
   "source": [
    "x = df['email']\n",
    "y = df['label']\n",
    "\n",
    "vetorizar = CountVectorizer()\n",
    "X_vetorized = vetorizar.fit_transform(x)\n",
    "\n",
    "X_train, X_test, y_train, y_test = train_test_split(X_vetorized, y, test_size=0.3, random_state=42)"
   ]
  },
  {
   "cell_type": "code",
   "execution_count": 6,
   "metadata": {},
   "outputs": [
    {
     "name": "stdout",
     "output_type": "stream",
     "text": [
      "A acurácia é:  1.0\n"
     ]
    }
   ],
   "source": [
    "rfClassifier = RandomForestClassifier(n_estimators= 100, random_state=42)\n",
    "\n",
    "rfClassifier.fit(X_train, y_train)\n",
    "\n",
    "y_pred = rfClassifier.predict(X_test)\n",
    "\n",
    "acuracia = accuracy_score(y_test, y_pred)\n",
    "\n",
    "print(\"A acurácia é: \", acuracia)"
   ]
  },
  {
   "cell_type": "code",
   "execution_count": 7,
   "metadata": {},
   "outputs": [
    {
     "name": "stdout",
     "output_type": "stream",
     "text": [
      "Predição do novo e-mail é:  ['spam']\n"
     ]
    }
   ],
   "source": [
    "novo_email = ['sua compra foi aprovada, clique para confirmar']\n",
    "novo_email_vetorizado = vetorizar.transform(novo_email)\n",
    "\n",
    "previsao = rfClassifier.predict(novo_email_vetorizado)\n",
    "print('Predição do novo e-mail é: ', previsao)"
   ]
  }
 ],
 "metadata": {
  "kernelspec": {
   "display_name": "Python 3",
   "language": "python",
   "name": "python3"
  },
  "language_info": {
   "codemirror_mode": {
    "name": "ipython",
    "version": 3
   },
   "file_extension": ".py",
   "mimetype": "text/x-python",
   "name": "python",
   "nbconvert_exporter": "python",
   "pygments_lexer": "ipython3",
   "version": "3.12.3"
  }
 },
 "nbformat": 4,
 "nbformat_minor": 2
}
